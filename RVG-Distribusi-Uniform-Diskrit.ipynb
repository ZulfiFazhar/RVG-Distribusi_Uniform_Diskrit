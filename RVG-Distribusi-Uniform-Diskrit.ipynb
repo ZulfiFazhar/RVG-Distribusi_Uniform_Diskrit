{
 "cells": [
  {
   "cell_type": "markdown",
   "metadata": {},
   "source": [
    "- NIM   : 10122005\n",
    "- Nama  : Zulfi Fadilah Azhar\n",
    "- Kelas : IF 1"
   ]
  },
  {
   "cell_type": "code",
   "execution_count": 187,
   "metadata": {},
   "outputs": [],
   "source": [
    "import pandas as pd"
   ]
  },
  {
   "cell_type": "code",
   "execution_count": 188,
   "metadata": {},
   "outputs": [],
   "source": [
    "a = 16421\n",
    "c = 12237\n",
    "m = 2147483647\n",
    "z0 = 10122005\n",
    "i = 800000\n",
    "j = 1000000"
   ]
  },
  {
   "cell_type": "code",
   "execution_count": 189,
   "metadata": {},
   "outputs": [],
   "source": [
    "def lcg(z, a, c, m):\n",
    "    return (a * z + c) % m\n",
    "\n",
    "def diskrit_uniform(Ui,i,j):\n",
    "    return i+((j-i+1)*Ui)"
   ]
  },
  {
   "cell_type": "code",
   "execution_count": 190,
   "metadata": {},
   "outputs": [],
   "source": [
    "def variate_generator(a, c, m, z0, i, j):\n",
    "    zi = z0\n",
    "    rows = []\n",
    "\n",
    "    # Menghasilkan 300 baris data\n",
    "    for _ in range(1, 301):\n",
    "        zi_next = lcg(zi, a, c, m)\n",
    "        ui = zi_next / m\n",
    "        xi = round(diskrit_uniform(ui,i,j),2)\n",
    "        xi_str = f'Rp{xi:,}'\n",
    "        rows.append([_, zi, zi_next, round(ui, 5), xi_str, xi])\n",
    "        zi = zi_next\n",
    "\n",
    "    return pd.DataFrame(rows, columns=['i', 'Zi-1', 'Zi', 'Ui', 'Xi', 'Xi_float'])"
   ]
  },
  {
   "cell_type": "code",
   "execution_count": 191,
   "metadata": {},
   "outputs": [
    {
     "data": {
      "text/html": [
       "<div>\n",
       "<style scoped>\n",
       "    .dataframe tbody tr th:only-of-type {\n",
       "        vertical-align: middle;\n",
       "    }\n",
       "\n",
       "    .dataframe tbody tr th {\n",
       "        vertical-align: top;\n",
       "    }\n",
       "\n",
       "    .dataframe thead th {\n",
       "        text-align: right;\n",
       "    }\n",
       "</style>\n",
       "<table border=\"1\" class=\"dataframe\">\n",
       "  <thead>\n",
       "    <tr style=\"text-align: right;\">\n",
       "      <th></th>\n",
       "      <th>i</th>\n",
       "      <th>Zi-1</th>\n",
       "      <th>Zi</th>\n",
       "      <th>Ui</th>\n",
       "      <th>Xi</th>\n",
       "    </tr>\n",
       "  </thead>\n",
       "  <tbody>\n",
       "    <tr>\n",
       "      <th>0</th>\n",
       "      <td>1</td>\n",
       "      <td>10122005</td>\n",
       "      <td>857215523</td>\n",
       "      <td>0.39917</td>\n",
       "      <td>Rp879,834.82</td>\n",
       "    </tr>\n",
       "    <tr>\n",
       "      <th>1</th>\n",
       "      <td>2</td>\n",
       "      <td>857215523</td>\n",
       "      <td>1728292982</td>\n",
       "      <td>0.80480</td>\n",
       "      <td>Rp960,960.63</td>\n",
       "    </tr>\n",
       "    <tr>\n",
       "      <th>2</th>\n",
       "      <td>3</td>\n",
       "      <td>1728292982</td>\n",
       "      <td>1302674554</td>\n",
       "      <td>0.60661</td>\n",
       "      <td>Rp921,321.63</td>\n",
       "    </tr>\n",
       "    <tr>\n",
       "      <th>3</th>\n",
       "      <td>4</td>\n",
       "      <td>1302674554</td>\n",
       "      <td>134255704</td>\n",
       "      <td>0.06252</td>\n",
       "      <td>Rp812,503.6</td>\n",
       "    </tr>\n",
       "    <tr>\n",
       "      <th>4</th>\n",
       "      <td>5</td>\n",
       "      <td>134255704</td>\n",
       "      <td>1294705799</td>\n",
       "      <td>0.60289</td>\n",
       "      <td>Rp920,579.48</td>\n",
       "    </tr>\n",
       "    <tr>\n",
       "      <th>...</th>\n",
       "      <td>...</td>\n",
       "      <td>...</td>\n",
       "      <td>...</td>\n",
       "      <td>...</td>\n",
       "      <td>...</td>\n",
       "    </tr>\n",
       "    <tr>\n",
       "      <th>295</th>\n",
       "      <td>296</td>\n",
       "      <td>1370717944</td>\n",
       "      <td>783266454</td>\n",
       "      <td>0.36474</td>\n",
       "      <td>Rp872,947.74</td>\n",
       "    </tr>\n",
       "    <tr>\n",
       "      <th>296</th>\n",
       "      <td>297</td>\n",
       "      <td>783266454</td>\n",
       "      <td>738891488</td>\n",
       "      <td>0.34407</td>\n",
       "      <td>Rp868,814.98</td>\n",
       "    </tr>\n",
       "    <tr>\n",
       "      <th>297</th>\n",
       "      <td>298</td>\n",
       "      <td>738891488</td>\n",
       "      <td>54531135</td>\n",
       "      <td>0.02539</td>\n",
       "      <td>Rp805,078.63</td>\n",
       "    </tr>\n",
       "    <tr>\n",
       "      <th>298</th>\n",
       "      <td>299</td>\n",
       "      <td>54531135</td>\n",
       "      <td>2102582920</td>\n",
       "      <td>0.97909</td>\n",
       "      <td>Rp995,819.27</td>\n",
       "    </tr>\n",
       "    <tr>\n",
       "      <th>299</th>\n",
       "      <td>300</td>\n",
       "      <td>2102582920</td>\n",
       "      <td>1419548738</td>\n",
       "      <td>0.66103</td>\n",
       "      <td>Rp932,206.44</td>\n",
       "    </tr>\n",
       "  </tbody>\n",
       "</table>\n",
       "<p>300 rows × 5 columns</p>\n",
       "</div>"
      ],
      "text/plain": [
       "       i        Zi-1          Zi       Ui            Xi\n",
       "0      1    10122005   857215523  0.39917  Rp879,834.82\n",
       "1      2   857215523  1728292982  0.80480  Rp960,960.63\n",
       "2      3  1728292982  1302674554  0.60661  Rp921,321.63\n",
       "3      4  1302674554   134255704  0.06252   Rp812,503.6\n",
       "4      5   134255704  1294705799  0.60289  Rp920,579.48\n",
       "..   ...         ...         ...      ...           ...\n",
       "295  296  1370717944   783266454  0.36474  Rp872,947.74\n",
       "296  297   783266454   738891488  0.34407  Rp868,814.98\n",
       "297  298   738891488    54531135  0.02539  Rp805,078.63\n",
       "298  299    54531135  2102582920  0.97909  Rp995,819.27\n",
       "299  300  2102582920  1419548738  0.66103  Rp932,206.44\n",
       "\n",
       "[300 rows x 5 columns]"
      ]
     },
     "metadata": {},
     "output_type": "display_data"
    }
   ],
   "source": [
    "# Memanggil fungsi variate_generator untuk menghasilkan DataFrame\n",
    "df = variate_generator(a, c, m, z0, i, j)\n",
    "display(df.loc[:,['i', 'Zi-1', 'Zi', 'Ui', 'Xi']])\n"
   ]
  },
  {
   "cell_type": "code",
   "execution_count": 194,
   "metadata": {},
   "outputs": [
    {
     "name": "stdout",
     "output_type": "stream",
     "text": [
      "Penghasilan rata-rata perbulan: Rp905,359.78\n"
     ]
    }
   ],
   "source": [
    "print(f\"Penghasilan rata-rata perbulan: Rp{round(df['Xi_float'].mean(),2):,}\")"
   ]
  },
  {
   "cell_type": "code",
   "execution_count": 192,
   "metadata": {},
   "outputs": [
    {
     "name": "stdout",
     "output_type": "stream",
     "text": [
      "Data Ui yang duplikat\n"
     ]
    },
    {
     "data": {
      "text/html": [
       "<div>\n",
       "<style scoped>\n",
       "    .dataframe tbody tr th:only-of-type {\n",
       "        vertical-align: middle;\n",
       "    }\n",
       "\n",
       "    .dataframe tbody tr th {\n",
       "        vertical-align: top;\n",
       "    }\n",
       "\n",
       "    .dataframe thead th {\n",
       "        text-align: right;\n",
       "    }\n",
       "</style>\n",
       "<table border=\"1\" class=\"dataframe\">\n",
       "  <thead>\n",
       "    <tr style=\"text-align: right;\">\n",
       "      <th></th>\n",
       "      <th>i</th>\n",
       "      <th>Zi-1</th>\n",
       "      <th>Zi</th>\n",
       "      <th>Ui</th>\n",
       "      <th>Xi</th>\n",
       "      <th>Xi_float</th>\n",
       "    </tr>\n",
       "  </thead>\n",
       "  <tbody>\n",
       "  </tbody>\n",
       "</table>\n",
       "</div>"
      ],
      "text/plain": [
       "Empty DataFrame\n",
       "Columns: [i, Zi-1, Zi, Ui, Xi, Xi_float]\n",
       "Index: []"
      ]
     },
     "metadata": {},
     "output_type": "display_data"
    }
   ],
   "source": [
    "ui_duplikat = df[df.duplicated(['Ui'], keep=False)].sort_values(by='Ui')\n",
    "print(\"Data Ui yang duplikat\")\n",
    "display(ui_duplikat)"
   ]
  },
  {
   "cell_type": "code",
   "execution_count": 193,
   "metadata": {},
   "outputs": [
    {
     "name": "stdout",
     "output_type": "stream",
     "text": [
      "Data Xi yang duplikat\n"
     ]
    },
    {
     "data": {
      "text/html": [
       "<div>\n",
       "<style scoped>\n",
       "    .dataframe tbody tr th:only-of-type {\n",
       "        vertical-align: middle;\n",
       "    }\n",
       "\n",
       "    .dataframe tbody tr th {\n",
       "        vertical-align: top;\n",
       "    }\n",
       "\n",
       "    .dataframe thead th {\n",
       "        text-align: right;\n",
       "    }\n",
       "</style>\n",
       "<table border=\"1\" class=\"dataframe\">\n",
       "  <thead>\n",
       "    <tr style=\"text-align: right;\">\n",
       "      <th></th>\n",
       "      <th>i</th>\n",
       "      <th>Zi-1</th>\n",
       "      <th>Zi</th>\n",
       "      <th>Ui</th>\n",
       "      <th>Xi</th>\n",
       "      <th>Xi_float</th>\n",
       "    </tr>\n",
       "  </thead>\n",
       "  <tbody>\n",
       "  </tbody>\n",
       "</table>\n",
       "</div>"
      ],
      "text/plain": [
       "Empty DataFrame\n",
       "Columns: [i, Zi-1, Zi, Ui, Xi, Xi_float]\n",
       "Index: []"
      ]
     },
     "metadata": {},
     "output_type": "display_data"
    }
   ],
   "source": [
    "xi_duplikat = df[df.duplicated(['Xi'], keep=False)].sort_values(by='Xi')\n",
    "print(\"Data Xi yang duplikat\")\n",
    "display(xi_duplikat)"
   ]
  }
 ],
 "metadata": {
  "kernelspec": {
   "display_name": "Python 3 (ipykernel)",
   "language": "python",
   "name": "python3"
  },
  "language_info": {
   "codemirror_mode": {
    "name": "ipython",
    "version": 3
   },
   "file_extension": ".py",
   "mimetype": "text/x-python",
   "name": "python",
   "nbconvert_exporter": "python",
   "pygments_lexer": "ipython3",
   "version": "3.10.14"
  }
 },
 "nbformat": 4,
 "nbformat_minor": 4
}
